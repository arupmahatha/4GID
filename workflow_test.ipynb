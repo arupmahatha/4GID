{
 "cells": [
  {
   "cell_type": "markdown",
   "metadata": {},
   "source": [
    "# SQL Generation and Analysis Workflow Test\n",
    "\n",
    "This notebook demonstrates the complete workflow of:\n",
    "1. Generating SQL from natural language\n",
    "2. Refining the generated SQL\n",
    "3. Executing the refined SQL\n",
    "4. Analyzing the results\n",
    "\n",
    "Let's test each component sequentially."
   ]
  },
  {
   "cell_type": "code",
   "execution_count": 1,
   "metadata": {},
   "outputs": [],
   "source": [
    "# Test query\n",
    "user_query = \"Find the name and email of a learner named David Gardner or who has the email allisonthomson@example.com\""
   ]
  },
  {
   "cell_type": "markdown",
   "metadata": {},
   "source": [
    "## 1. SQL Generation Test"
   ]
  },
  {
   "cell_type": "code",
   "execution_count": 2,
   "metadata": {},
   "outputs": [
    {
     "name": "stdout",
     "output_type": "stream",
     "text": [
      "\n",
      "Query: 'Find the name and email of a learner named David Gardner or who has the email allisonthomson@example.com'\n",
      "\n",
      "Generating SQL...\n",
      "\n",
      "Schema Information:\n",
      "Country (id, name)\n",
      "State (id, name, code, country_code)\n",
      "District (id, name, code, state_code)\n",
      "Institution (id, name, short_name, aicte_code, eamcet_code, l4g_code, l4g_group_code, type, address, website, latlong, district_code)\n",
      "Degree (id, name, short_name)\n",
      "Branch (id, name, short_name, degree_code)\n",
      "Department (id, name, type)\n",
      "Designation (id, name, type, priority)\n",
      "Knowledge_Partner (id, name, address, website, info)\n",
      "Course (id, name, info, knowledge_partner_code)\n",
      "Module (id, name, info, module_sequence_number, theory_practical, duration_minutes, course_code)\n",
      "Specialization (id, name, info, knowledge_partner_code)\n",
      "Specialization_Course (id, course_sequence_number, course_code, specialization_code)\n",
      "Program (id, name, info, knowledge_partner_code)\n",
      "Program_Specialization (id, program_code, specialization_code)\n",
      "Program_Requirement (id, name, is_mandatory, program_code)\n",
      "Learner (id, name, email, mobile, gender, date_of_birth, aadhaar_number)\n",
      "Learner_Education (id, rollno, year_of_joining, year_of_graduation, learner_code, institution_code, branch_code)\n",
      "Learner_Employment (id, empid, year_of_joining, learner_code, institution_code, department_code, designation_code)\n",
      "Learner_Program_Requirement (id, learner_code, program_requirement_code, value)\n",
      "\n",
      "Generated SQL:\n",
      " SELECT Learner.name, Learner.email\n",
      "   FROM Learner\n",
      "   WHERE Learner.name = 'David Gardner'\n",
      "   UNION ALL\n",
      "   SELECT Learner.name, Learner.email\n",
      "   FROM Learner\n",
      "   INNER JOIN Learner_Education ON Learner.id = Learner_Educition.learner_code\n",
      "   WHERE Learner_education.email = 'allisonthomson@example.com';\n"
     ]
    }
   ],
   "source": [
    "from engine.generator import SQLGenerator\n",
    "\n",
    "def test_generator():\n",
    "    \"\"\"Test SQL generation functionality\"\"\"\n",
    "    generator = SQLGenerator()\n",
    "\n",
    "    print(f\"\\nQuery: '{user_query}'\")\n",
    "    \n",
    "    try:\n",
    "        # Generate SQL\n",
    "        print(\"\\nGenerating SQL...\")\n",
    "        results = generator.main_generator(user_query)\n",
    "        \n",
    "        print(\"\\nSchema Information:\")\n",
    "        print(results['formatted_metadata'])\n",
    "        \n",
    "        print(\"\\nGenerated SQL:\")\n",
    "        print(results['generated_sql'])\n",
    "        \n",
    "        return results['generated_sql']\n",
    "        \n",
    "    except Exception as e:\n",
    "        print(f\"Error: {str(e)}\")\n",
    "        return None\n",
    "\n",
    "generated_sql = test_generator()"
   ]
  },
  {
   "cell_type": "markdown",
   "metadata": {},
   "source": [
    "## 2. SQL Refinement Test"
   ]
  },
  {
   "cell_type": "code",
   "execution_count": 3,
   "metadata": {},
   "outputs": [
    {
     "name": "stdout",
     "output_type": "stream",
     "text": [
      "\n",
      "Input SQL: ' SELECT Learner.name, Learner.email\n",
      "   FROM Learner\n",
      "   WHERE Learner.name = 'David Gardner'\n",
      "   UNION ALL\n",
      "   SELECT Learner.name, Learner.email\n",
      "   FROM Learner\n",
      "   INNER JOIN Learner_Education ON Learner.id = Learner_Educition.learner_code\n",
      "   WHERE Learner_education.email = 'allisonthomson@example.com';'\n",
      "\n",
      "Refining SQL...\n",
      "\n",
      "Extracted Entities:\n",
      "Table: Learner\n",
      "Column: name\n",
      "Value: David Gardner\n",
      "---\n",
      "Table: Learner\n",
      "Column: email\n",
      "Value: 'allisonthomson@example.com'\n",
      "---\n",
      "\n",
      "Value Mappings:\n",
      "Original: 'David Gardner'\n",
      "Matched: 'David Garner'\n",
      "Score: 96\n",
      "---\n",
      "Original: ''allisonthomson@example.com''\n",
      "Matched: 'allisonthompson@example.com'\n",
      "Score: 98\n",
      "---\n",
      "\n",
      "Refined SQL:\n",
      "SQL was refined to:\n",
      " SELECT Learner.name, Learner.email\n",
      "   FROM Learner\n",
      "   WHERE Learner.name = 'David Garner'\n",
      "   UNION ALL\n",
      "   SELECT Learner.name, Learner.email\n",
      "   FROM Learner\n",
      "   INNER JOIN Learner_Education ON Learner.id = Learner_Educition.learner_code\n",
      "   WHERE Learner_education.email = 'allisonthompson@example.com';\n"
     ]
    }
   ],
   "source": [
    "from engine.refiner import SQLRefiner\n",
    "\n",
    "def test_refiner(sql_query):\n",
    "    \"\"\"Test SQL refinement functionality\"\"\"\n",
    "    refiner = SQLRefiner()\n",
    "    \n",
    "    print(f\"\\nInput SQL: '{sql_query}'\")\n",
    "    \n",
    "    try:\n",
    "        # Refine SQL\n",
    "        print(\"\\nRefining SQL...\")\n",
    "        results = refiner.main_refiner(sql_query)\n",
    "        \n",
    "        print(\"\\nExtracted Entities:\")\n",
    "        if results['extracted_entities']:\n",
    "            for entity in results['extracted_entities']:\n",
    "                print(f\"Table: {entity['table']}\")\n",
    "                print(f\"Column: {entity['column']}\")\n",
    "                print(f\"Value: {entity['value']}\")\n",
    "                print(\"---\")\n",
    "        else:\n",
    "            print(\"No entities were extracted from the SQL query\")\n",
    "        \n",
    "        print(\"\\nValue Mappings:\")\n",
    "        if results['value_mappings']:\n",
    "            for mapping in results['value_mappings']:\n",
    "                print(f\"Original: '{mapping['original_value']}'\")\n",
    "                print(f\"Matched: '{mapping['matched_value']}'\")\n",
    "                print(f\"Score: {mapping['score']}\")\n",
    "                print(\"---\")\n",
    "        else:\n",
    "            print(\"No value mappings needed\")\n",
    "        \n",
    "        print(\"\\nRefined SQL:\")\n",
    "        if results['refined_sql'] != results['original_sql']:\n",
    "            print(\"SQL was refined to:\")\n",
    "            print(results['refined_sql'])\n",
    "        else:\n",
    "            print(\"No refinements were needed. Using original SQL.\")\n",
    "            \n",
    "        return results['refined_sql']\n",
    "        \n",
    "    except Exception as e:\n",
    "        print(f\"Error: {str(e)}\")\n",
    "        return None\n",
    "\n",
    "if generated_sql:\n",
    "    refined_sql = test_refiner(generated_sql)\n",
    "else:\n",
    "    print(\"Skipping refinement as no SQL was generated\")"
   ]
  },
  {
   "cell_type": "markdown",
   "metadata": {},
   "source": [
    "## 3. SQL Execution Test"
   ]
  },
  {
   "cell_type": "code",
   "execution_count": 4,
   "metadata": {},
   "outputs": [
    {
     "name": "stdout",
     "output_type": "stream",
     "text": [
      "Executing Query:\n",
      " SELECT Learner.name, Learner.email\n",
      "   FROM Learner\n",
      "   WHERE Learner.name = 'David Garner'\n",
      "   UNION ALL\n",
      "   SELECT Learner.name, Learner.email\n",
      "   FROM Learner\n",
      "   INNER JOIN Learner_Education ON Learner.id = Learner_Educition.learner_code\n",
      "   WHERE Learner_education.email = 'allisonthompson@example.com';\n",
      "\n",
      "Failed: no such column: Learner_education.email\n"
     ]
    }
   ],
   "source": [
    "from engine.executor import SQLExecutor\n",
    "\n",
    "def test_executor(sql_query):\n",
    "    \"\"\"Test SQLExecutor functionality\"\"\"\n",
    "    executor = SQLExecutor()\n",
    "\n",
    "    print(f\"Executing Query:\\n{sql_query}\")\n",
    "    \n",
    "    success, results, formatted_results, error = executor.main_executor(sql_query)\n",
    "    \n",
    "    if success:\n",
    "        print(f\"\\nSuccess! Found {len(results)} rows\")\n",
    "        print(\"\\nFormatted Results:\")\n",
    "        print(formatted_results)\n",
    "        print(\"\\nRaw Results:\")\n",
    "        print(results)\n",
    "        return results\n",
    "    else:\n",
    "        print(f\"\\nFailed: {error}\")\n",
    "        return None\n",
    "\n",
    "if refined_sql:\n",
    "    execution_results = test_executor(refined_sql)\n",
    "else:\n",
    "    print(\"Skipping execution as no refined SQL was generated\")"
   ]
  },
  {
   "cell_type": "markdown",
   "metadata": {},
   "source": [
    "## 4. Results Analysis Test"
   ]
  },
  {
   "cell_type": "code",
   "execution_count": 5,
   "metadata": {},
   "outputs": [
    {
     "name": "stdout",
     "output_type": "stream",
     "text": [
      "Skipping analysis as no execution results were generated\n"
     ]
    }
   ],
   "source": [
    "from engine.analyzer import SQLAnalyzer\n",
    "\n",
    "def test_analyzer(query, results):\n",
    "    \"\"\"Test SQLAnalyzer functionality\"\"\"\n",
    "    analyzer = SQLAnalyzer()\n",
    "    \n",
    "    # Test analysis\n",
    "    analysis_results = analyzer.main_analyzer(query, results)\n",
    "    \n",
    "    print(\"\\nAnalysis Results:\")\n",
    "    if analysis_results['success']:\n",
    "        print(f\"Query: {analysis_results['query_info']}\")\n",
    "        print(f\"Record count: {analysis_results['record_count']}\")\n",
    "        print(f\"\\nSuccess: {analysis_results['success']}\")\n",
    "        print(\"\\nAnalysis:\")\n",
    "        print(analysis_results['analysis'])\n",
    "    else:\n",
    "        print(f\"Analysis failed: {analysis_results['error']}\")\n",
    "\n",
    "if execution_results:\n",
    "    test_analyzer(user_query, execution_results)\n",
    "else:\n",
    "    print(\"Skipping analysis as no execution results were generated\")"
   ]
  },
  {
   "cell_type": "code",
   "execution_count": 6,
   "metadata": {},
   "outputs": [
    {
     "name": "stdout",
     "output_type": "stream",
     "text": [
      "Generated Response:\n",
      " The last chat revolved around the extraction of entities from a given SQL query and providing the entities in the table_name|column_name|comparison_value format as per requirements. The query was modified with the replacements you specified, replacing 'David Gardner' with 'David Garner' and 'allisonthomson@example.com' with 'allisonthompson@example.com'.\n"
     ]
    }
   ],
   "source": [
    "from llm_config.llm_call import generate_text\n",
    "\n",
    "# Define a prompt to test the conversation history\n",
    "prompt = \"What was out last chat about?\"\n",
    "response = generate_text(prompt)\n",
    "print(\"Generated Response:\")\n",
    "print(response)"
   ]
  },
  {
   "cell_type": "code",
   "execution_count": null,
   "metadata": {},
   "outputs": [],
   "source": []
  }
 ],
 "metadata": {
  "kernelspec": {
   "display_name": "Python 3",
   "language": "python",
   "name": "python3"
  },
  "language_info": {
   "codemirror_mode": {
    "name": "ipython",
    "version": 3
   },
   "file_extension": ".py",
   "mimetype": "text/x-python",
   "name": "python",
   "nbconvert_exporter": "python",
   "pygments_lexer": "ipython3",
   "version": "3.12.0"
  }
 },
 "nbformat": 4,
 "nbformat_minor": 4
}
